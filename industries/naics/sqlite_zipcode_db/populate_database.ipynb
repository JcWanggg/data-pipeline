{
 "cells": [
  {
   "cell_type": "markdown",
   "metadata": {},
   "source": [
    "## Note: \n",
    "Only run the cells below if you need to either build the sqlite database from scratch, or if you need to download new data. If you are downloading new data, make sure to put the database in the folder 'zip_data'.\n",
    "\n",
    "If you don't have the database you need, go to https://drive.google.com/file/d/1J1TLVkvnEQvX31MxdF2df04BNpiaExyf/view?usp=sharing and then place it in the zip_data folder.\n",
    "\n",
    "Don't forget to replace the link above with a new one that has the updated database!"
   ]
  },
  {
   "cell_type": "markdown",
   "metadata": {},
   "source": [
    "Also be warned that constructing the database from scratch will take several hours!"
   ]
  },
  {
   "cell_type": "code",
   "execution_count": 1,
   "metadata": {},
   "outputs": [],
   "source": [
    "import requests as r\n",
    "import pandas as pd\n",
    "import datetime\n",
    "import requests as r\n",
    "import db_zip_populator as zu\n",
    "import re\n",
    "import sqlite3\n",
    "from tqdm import tqdm\n",
    "import re\n",
    "\n",
    "endyear = datetime.date.today().year\n",
    "api_headers = {}\n",
    "api_headers['x-api-key'] = '975f39a54e48438ceebf303d6018e34db212e804'\n",
    "db_path = 'zip_data/us_economic_data.db'\n"
   ]
  },
  {
   "cell_type": "markdown",
   "metadata": {},
   "source": [
    "# Zipcode data\n"
   ]
  },
  {
   "cell_type": "markdown",
   "metadata": {},
   "source": [
    "- The ZipCodeUtility class has 'startyear' and 'endyear' as parameters. If you need to download new data, you can adjust the start and end years. \n",
    "\n",
    "- There is a possibility that this won't work if the api call structure is changed. If that's the case, adjusting the '_get_response_data' function in db_zip_populator.py will do the trick."
   ]
  },
  {
   "cell_type": "code",
   "execution_count": null,
   "metadata": {},
   "outputs": [],
   "source": [
    "# If you need to update the database, use the 'startyear' and 'endyear' parameters\n",
    "# zip_util = zu.ZipCodeUtility(api_headers=api_headers, startyear=2022, endyear=2023)\n",
    "zip_util = zu.ZipCodeUtility(api_headers=api_headers)\n",
    "zip_util.get_all_zip_zbp()"
   ]
  },
  {
   "cell_type": "code",
   "execution_count": 19,
   "metadata": {},
   "outputs": [
    {
     "name": "stdout",
     "output_type": "stream",
     "text": [
      "Getting industry data for industry: 00\tyear: 2012\n",
      "Finished processing 00 for 2012.\n",
      "Getting industry data for industry: 00\tyear: 2013\n",
      "Finished processing 00 for 2013.\n",
      "Getting industry data for industry: 00\tyear: 2014\n",
      "Finished processing 00 for 2014.\n",
      "Getting industry data for industry: 00\tyear: 2015\n",
      "Finished processing 00 for 2015.\n",
      "Getting industry data for industry: 00\tyear: 2016\n",
      "Finished processing 00 for 2016.\n",
      "Getting industry data for industry: 00\tyear: 2017\n",
      "Finished processing 00 for 2017.\n",
      "Getting industry data for industry: 00\tyear: 2018\n",
      "Finished processing 00 for 2018.\n",
      "Getting industry data for industry: 00\tyear: 2019\n",
      "Finished processing 00 for 2019.\n",
      "Getting industry data for industry: 00\tyear: 2020\n",
      "Finished processing 00 for 2020.\n",
      "Getting industry data for industry: 00\tyear: 2021\n",
      "Finished processing 00 for 2021.\n",
      "Getting industry data for industry: 00\tyear: 2022\n",
      "Failed to fetch data: 404\n",
      "Failed to fetch data for year 2022: 404\n"
     ]
    }
   ],
   "source": [
    "# This is included since sector '00' isn't present in the \n",
    "zip_util.get_zip_zbp('00')"
   ]
  },
  {
   "cell_type": "markdown",
   "metadata": {},
   "source": [
    "# DimZipCode\n",
    "## The below is for populating the 'DimZipCode' table, which will have the zipcode, city, and state columns"
   ]
  },
  {
   "cell_type": "code",
   "execution_count": null,
   "metadata": {},
   "outputs": [],
   "source": [
    "def table_exists(conn, table_name):\n",
    "    cursor = conn.cursor()\n",
    "    cursor.execute(\"SELECT name FROM sqlite_master WHERE type='table' AND name=?\", (table_name,))\n",
    "    exists = cursor.fetchone() is not None\n",
    "    return exists\n",
    "\n",
    "def get_all_zipcode_names(year):\n",
    "    url = f\"https://api.census.gov/data/{year}/zbp?get=GEO_TTL&for=zip%20code:*&key=975f39a54e48438ceebf303d6018e34db212e804\"\n",
    "    if int(year) == 2017 or int(year) == 2018:\n",
    "        url = f\"https://api.census.gov/data/{year}/zbp?get=NAME&for=zip%20code:*&key=975f39a54e48438ceebf303d6018e34db212e804\"\n",
    "    \n",
    "    if int(year) > 2018:\n",
    "        url = f\"https://api.census.gov/data/{year}/cbp?get=NAME&for=zip%20code:*&key=975f39a54e48438ceebf303d6018e34db212e804\"\n",
    "    \n",
    "    response = r.get(url)\n",
    "    if response.status_code == 200:\n",
    "        data = response.json()\n",
    "        # Skip the header row and extract the relevant data\n",
    "        return [(row[1], row[0]) for row in data[1:]]\n",
    "    else:\n",
    "        print(f\"Failed to fetch data for year {year}: {response.status_code}\")\n",
    "        return []"
   ]
  },
  {
   "cell_type": "code",
   "execution_count": null,
   "metadata": {},
   "outputs": [],
   "source": [
    "conn = sqlite3.connect(db_path)\n",
    "cursor = conn.cursor()\n",
    "\n",
    "cursor.execute('DROP TABLE IF EXISTS ZipCodeNames')\n",
    "if not table_exists(conn, 'DimZipCode'):\n",
    "    query = \"SELECT DISTINCT GeoID FROM DataEntry\"\n",
    "    cursor.execute(query)\n",
    "    geo_ids = cursor.fetchall()\n",
    "    geo_id_set = set(geo_id[0] for geo_id in geo_ids)\n",
    "\n",
    "    cursor.execute('''\n",
    "    CREATE TABLE IF NOT EXISTS DimZipCode (\n",
    "        GeoID TEXT PRIMARY KEY,\n",
    "        GeoName TEXT\n",
    "    )\n",
    "    ''')\n",
    "    cursor.execute(\"PRAGMA table_info(DimZipCode);\")\n",
    "    columns = [info[1] for info in cursor.fetchall()]\n",
    "    if 'GeoName' in columns:\n",
    "        # Fetch and store names for each year from 2012 to 2022\n",
    "        unique_zip_code_data = set()\n",
    "        for year in tqdm(range(2012, endyear), desc=\"Fetching zip code names\"):\n",
    "            zip_code_data = get_all_zipcode_names(str(year))\n",
    "            for geo_id, geo_name in zip_code_data:\n",
    "                if geo_id in geo_id_set:\n",
    "                    unique_zip_code_data.add((geo_id, geo_name))\n",
    "\n",
    "        # Insert the unique data into the database\n",
    "        cursor.executemany('INSERT OR IGNORE INTO DimZipCode (GeoID, GeoName) VALUES (?, ?)', list(unique_zip_code_data))\n",
    "        conn.commit()\n",
    "conn.close()"
   ]
  },
  {
   "cell_type": "code",
   "execution_count": 112,
   "metadata": {},
   "outputs": [],
   "source": [
    "conn = sqlite3.connect(db_path)\n",
    "cursor = conn.cursor()\n",
    "\n",
    "# Alter table to add City and State columns\n",
    "try:\n",
    "    cursor.execute(\"PRAGMA table_info(DimZipCode);\")\n",
    "    columns = [info[1] for info in cursor.fetchall()]\n",
    "    \n",
    "    # Add City column if it does not exist\n",
    "    if 'City' not in columns:\n",
    "        cursor.execute(\"ALTER TABLE DimZipCode ADD COLUMN City TEXT;\")\n",
    "        print(\"Column 'City' added successfully.\")\n",
    "    \n",
    "    # Add State column if it does not exist\n",
    "    if 'State' not in columns:\n",
    "        cursor.execute(\"ALTER TABLE DimZipCode ADD COLUMN State TEXT;\")\n",
    "        print(\"Column 'State' added successfully.\")\n",
    "except sqlite3.OperationalError as e:\n",
    "    print(f\"Error: {e}\")\n",
    "\n",
    "# Commit the changes and close the connection\n",
    "conn.commit()\n",
    "conn.close()\n"
   ]
  },
  {
   "cell_type": "code",
   "execution_count": 113,
   "metadata": {},
   "outputs": [],
   "source": [
    "# Function to extract city and state from GeoName\n",
    "def extract_city_state(geo_name):\n",
    "    match = re.match(r'ZIP \\d+ \\((.+), (.+)\\)', geo_name)\n",
    "    if match:\n",
    "        return match.group(1), match.group(2)\n",
    "    else:\n",
    "        return None, None\n",
    "\n",
    "if 'GeoName' in columns:\n",
    "    conn = sqlite3.connect('zip_data/us_economic_data.db')\n",
    "    cursor = conn.cursor()\n",
    "    cursor.execute(\"SELECT GeoID, GeoName FROM DimZipCode\")\n",
    "    rows = cursor.fetchall()\n",
    "\n",
    "    # Prepare the data for updating\n",
    "    update_data = []\n",
    "    for geo_id, geo_name in tqdm(rows, desc=\"Extracting city and state\"):\n",
    "        city, state = extract_city_state(geo_name)\n",
    "        if city and state:\n",
    "            update_data.append((city, state, geo_id))\n",
    "\n",
    "    # Update the table with city and state\n",
    "    cursor.executemany(\"UPDATE DimZipCode SET City = ?, State = ? WHERE GeoID = ?\", update_data)\n",
    "\n",
    "    conn.commit()\n",
    "    conn.close()\n"
   ]
  },
  {
   "cell_type": "code",
   "execution_count": 114,
   "metadata": {},
   "outputs": [],
   "source": [
    "if 'GeoName' in columns:\n",
    "    conn = sqlite3.connect(db_path)\n",
    "    cursor = conn.cursor()\n",
    "\n",
    "    # Create a new table without the GeoName column\n",
    "    cursor.execute('''\n",
    "    CREATE TABLE IF NOT EXISTS ZipCodeNames_new (\n",
    "        GeoID TEXT PRIMARY KEY,\n",
    "        City TEXT,\n",
    "        State TEXT\n",
    "    )\n",
    "    ''')\n",
    "\n",
    "    # Copy data from the old table to the new table\n",
    "    cursor.execute('''\n",
    "    INSERT INTO ZipCodeNames_new (GeoID, City, State)\n",
    "    SELECT GeoID, City, State\n",
    "    FROM DimZipCode\n",
    "    ''')\n",
    "\n",
    "    # Drop the old table\n",
    "    cursor.execute('DROP TABLE DimZipCode')\n",
    "\n",
    "    # Rename the new table to the original table name\n",
    "    cursor.execute('ALTER TABLE ZipCodeNames_new RENAME TO DimZipCode')\n",
    "\n",
    "    # Commit the changes and close the connection\n",
    "    conn.commit()\n",
    "    conn.close()\n"
   ]
  },
  {
   "cell_type": "markdown",
   "metadata": {},
   "source": [
    "## This is for creating foreign keys to the existing 'DataEntry' Tables. Unfortunately, they were not included in the database_manager.py file, so I'm adding them here."
   ]
  },
  {
   "cell_type": "code",
   "execution_count": 116,
   "metadata": {},
   "outputs": [],
   "source": [
    "conn = sqlite3.connect(db_path)\n",
    "cursor = conn.cursor()\n",
    "cursor.execute(f\"PRAGMA foreign_key_list(DataEntry)\")\n",
    "foreign_keys = cursor.fetchall()\n",
    "if not foreign_keys:\n",
    "    # Create the DimNaics and DimYear tables if they don't already exist\n",
    "\n",
    "    cursor.execute('''\n",
    "    CREATE TABLE IF NOT EXISTS DimYear (\n",
    "        Year INTEGER PRIMARY KEY,\n",
    "        YearDescription TEXT\n",
    "    )\n",
    "    ''')\n",
    "\n",
    "    # Create the new DataEntry table with foreign keys\n",
    "    cursor.execute('''\n",
    "    CREATE TABLE IF NOT EXISTS DataEntry_new (\n",
    "        EntryID INTEGER PRIMARY KEY AUTOINCREMENT,\n",
    "        GeoID TEXT,  \n",
    "        NaicsCode TEXT,  \n",
    "        Year INTEGER,  \n",
    "        Establishments INTEGER,\n",
    "        Employees INTEGER,\n",
    "        Payroll INTEGER,\n",
    "        IndustryLevel INT,\n",
    "        FOREIGN KEY (GeoID) REFERENCES DimZipCode(GeoID),\n",
    "        FOREIGN KEY (NaicsCode) REFERENCES DimNaics(NaicsCode),\n",
    "        FOREIGN KEY (Year) REFERENCES DimYear(Year)\n",
    "    )\n",
    "    ''')\n",
    "\n",
    "    # Copy data from the old table to the new table\n",
    "    cursor.execute('''\n",
    "    INSERT INTO DataEntry_new (EntryID, GeoID, NaicsCode, Year, Establishments, Employees, Payroll, IndustryLevel)\n",
    "    SELECT EntryID, GeoID, NaicsCode, Year, Establishments, Employees, Payroll, IndustryLevel\n",
    "    FROM DataEntry\n",
    "    ''')\n",
    "\n",
    "    # Drop the old table\n",
    "    cursor.execute('DROP TABLE DataEntry')\n",
    "\n",
    "    # Rename the new table to DataEntry\n",
    "    cursor.execute('ALTER TABLE DataEntry_new RENAME TO DataEntry')\n",
    "\n",
    "    conn.commit()\n",
    "conn.close()\n"
   ]
  },
  {
   "cell_type": "markdown",
   "metadata": {},
   "source": [
    "# DimNaics Table"
   ]
  },
  {
   "cell_type": "markdown",
   "metadata": {},
   "source": [
    "### This table has the naics industry ids along with the names of the industries."
   ]
  },
  {
   "cell_type": "code",
   "execution_count": 126,
   "metadata": {},
   "outputs": [
    {
     "name": "stdout",
     "output_type": "stream",
     "text": [
      "      Unnamed: 0 relevant_naics                             industry_detail\n",
      "0              0             11  Agriculture, Forestry, Fishing and Hunting\n",
      "1              1            111                             Crop Production\n",
      "2              2           1111                   Oilseed and Grain Farming\n",
      "3              3          11111                             Soybean Farming\n",
      "4              4         111110                             Soybean Farming\n",
      "...          ...            ...                                         ...\n",
      "2211        2211         928110                          National Security \n",
      "2212        2212          92812                      International Affairs \n",
      "2213        2213         928120                      International Affairs \n",
      "2214        2214             99                   Industries not classified\n",
      "2215        2215             00                       Total for all sectors\n",
      "\n",
      "[2216 rows x 3 columns]\n"
     ]
    }
   ],
   "source": [
    "# Load the CSV file\n",
    "df = pd.read_csv('id_lists/industry_id_list.csv')\n",
    "\n",
    "# Function to format relevant_naics values\n",
    "def format_naics(value):\n",
    "    if value == 0.0:\n",
    "        return '00'\n",
    "    else:\n",
    "        return str(int(value)).zfill(2)\n",
    "\n",
    "# Apply the formatting function to the relevant_naics column\n",
    "df['relevant_naics'] = df['relevant_naics'].apply(format_naics)\n",
    "\n",
    "conn = sqlite3.connect(db_path)\n",
    "cursor = conn.cursor()\n",
    "\n",
    "# Create the table\n",
    "cursor.execute('DROP TABLE DimNaics')\n",
    "cursor.execute('''\n",
    "CREATE TABLE IF NOT EXISTS DimNaics (\n",
    "    NaicsCode TEXT,\n",
    "    industry_detail TEXT\n",
    ")\n",
    "''')\n",
    "\n",
    "# Delete existing data in the table to prevent duplications\n",
    "cursor.execute('DELETE FROM DimNaics')\n",
    "# Insert the data into the table\n",
    "for index, row in df.iterrows():\n",
    "    cursor.execute('INSERT INTO DimNaics (NaicsCode, industry_detail) VALUES (?, ?)', (row['relevant_naics'], row['industry_detail']))\n",
    "\n",
    "conn.commit()\n",
    "conn.close()\n"
   ]
  },
  {
   "cell_type": "markdown",
   "metadata": {},
   "source": [
    "# DimYear Table"
   ]
  },
  {
   "cell_type": "markdown",
   "metadata": {},
   "source": [
    "### This table has the years along with the corresponding NAICS year identifiers. For example, 'NAICS2017' is used for 2017 onwards."
   ]
  },
  {
   "cell_type": "code",
   "execution_count": 128,
   "metadata": {},
   "outputs": [],
   "source": [
    "conn = sqlite3.connect(db_path)\n",
    "cursor = conn.cursor()\n",
    "\n",
    "# Function to select NAICS year description based on the given year\n",
    "def _naics_year_selector(year):\n",
    "    if year >= 2000 and year <= 2002:\n",
    "        return \"NAICS1997\"\n",
    "    elif year >= 2003 and year <= 2007:\n",
    "        return \"NAICS2002\"\n",
    "    elif year >= 2008 and year <= 2011:\n",
    "        return \"NAICS2007\"\n",
    "    elif year >= 2012 and year <= 2016:\n",
    "        return \"NAICS2012\"\n",
    "    return \"NAICS2017\"\n",
    "\n",
    "# Populate the DimYear table with years and their NAICS descriptions\n",
    "start_year = 2000\n",
    "years_data = [(year, _naics_year_selector(year)) for year in range(start_year, endyear + 1)]\n",
    "\n",
    "# Insert the data into the DimYear table\n",
    "cursor.executemany('INSERT OR IGNORE INTO DimYear (Year, YearDescription) VALUES (?, ?)', years_data)\n",
    "\n",
    "conn.commit()\n",
    "conn.close()"
   ]
  },
  {
   "cell_type": "markdown",
   "metadata": {},
   "source": [
    "# Check"
   ]
  },
  {
   "cell_type": "markdown",
   "metadata": {},
   "source": [
    "## The cells below check if the database was populated properly"
   ]
  },
  {
   "cell_type": "code",
   "execution_count": null,
   "metadata": {},
   "outputs": [],
   "source": [
    "conn = sqlite3.connect(db_path)\n",
    "cursor = conn.cursor()\n",
    "query = \"SELECT * FROM DimZipCode\"\n",
    "cursor.execute(query)\n",
    "rows = cursor.fetchall()\n",
    "columns = [description[0] for description in cursor.description]\n",
    "print(columns)\n",
    "for row in rows:\n",
    "    print(row)\n",
    "conn.close()\n",
    "len(rows)"
   ]
  },
  {
   "cell_type": "code",
   "execution_count": 6,
   "metadata": {},
   "outputs": [
    {
     "name": "stdout",
     "output_type": "stream",
     "text": [
      "['Year', 'YearDescription']\n",
      "(2000, 'NAICS1997')\n",
      "(2001, 'NAICS1997')\n",
      "(2002, 'NAICS1997')\n",
      "(2003, 'NAICS2002')\n",
      "(2004, 'NAICS2002')\n",
      "(2005, 'NAICS2002')\n",
      "(2006, 'NAICS2002')\n",
      "(2007, 'NAICS2002')\n",
      "(2008, 'NAICS2007')\n",
      "(2009, 'NAICS2007')\n",
      "(2010, 'NAICS2007')\n",
      "(2011, 'NAICS2007')\n",
      "(2012, 'NAICS2012')\n",
      "(2013, 'NAICS2012')\n",
      "(2014, 'NAICS2012')\n",
      "(2015, 'NAICS2012')\n",
      "(2016, 'NAICS2012')\n",
      "(2017, 'NAICS2017')\n",
      "(2018, 'NAICS2017')\n",
      "(2019, 'NAICS2017')\n",
      "(2020, 'NAICS2017')\n",
      "(2021, 'NAICS2017')\n",
      "(2022, 'NAICS2017')\n",
      "(2023, 'NAICS2017')\n"
     ]
    },
    {
     "data": {
      "text/plain": [
       "24"
      ]
     },
     "execution_count": 6,
     "metadata": {},
     "output_type": "execute_result"
    }
   ],
   "source": [
    "conn = sqlite3.connect(db_path)\n",
    "cursor = conn.cursor()\n",
    "query = \"SELECT * FROM DimYear\"\n",
    "cursor.execute(query)\n",
    "rows = cursor.fetchall()\n",
    "columns = [description[0] for description in cursor.description]\n",
    "print(columns)\n",
    "for row in rows:\n",
    "    print(row)\n",
    "conn.close()\n",
    "len(rows)"
   ]
  },
  {
   "cell_type": "code",
   "execution_count": null,
   "metadata": {},
   "outputs": [],
   "source": [
    "conn = sqlite3.connect(db_path)\n",
    "cursor = conn.cursor()\n",
    "query = \"SELECT * FROM DimNaics\"\n",
    "cursor.execute(query)\n",
    "rows = cursor.fetchall()\n",
    "columns = [description[0] for description in cursor.description]\n",
    "print(columns)\n",
    "for row in rows:\n",
    "    print(row)\n",
    "conn.close()\n",
    "len(rows)"
   ]
  },
  {
   "cell_type": "code",
   "execution_count": 131,
   "metadata": {},
   "outputs": [
    {
     "data": {
      "text/plain": [
       "36194419"
      ]
     },
     "execution_count": 131,
     "metadata": {},
     "output_type": "execute_result"
    }
   ],
   "source": [
    "def count_rows_in_table(table_name):\n",
    "    try:\n",
    "        conn = sqlite3.connect(db_path)\n",
    "        cursor = conn.cursor()\n",
    "        cursor.execute(f\"SELECT COUNT(*) FROM {table_name}\")\n",
    "        count = cursor.fetchone()[0]\n",
    "        conn.close()\n",
    "        return count\n",
    "    except sqlite3.Error as e:\n",
    "        print(f\"Error counting rows in {table_name}: {e}\")\n",
    "        conn.close()\n",
    "        return None\n",
    "count_rows_in_table('DataEntry')"
   ]
  },
  {
   "cell_type": "code",
   "execution_count": 133,
   "metadata": {},
   "outputs": [
    {
     "name": "stdout",
     "output_type": "stream",
     "text": [
      "Foreign keys in table DataEntry:\n",
      "(0, 0, 'DimYear', 'Year', 'Year', 'NO ACTION', 'NO ACTION', 'NONE')\n",
      "(1, 0, 'DimZipCode', 'GeoID', 'GeoID', 'NO ACTION', 'NO ACTION', 'NONE')\n"
     ]
    }
   ],
   "source": [
    "conn = sqlite3.connect(db_path)\n",
    "cursor = conn.cursor()\n",
    "\n",
    "# Function to print foreign keys of a table\n",
    "def print_foreign_keys(table_name):\n",
    "    cursor.execute(f\"PRAGMA foreign_key_list({table_name})\")\n",
    "    foreign_keys = cursor.fetchall()\n",
    "    if foreign_keys:\n",
    "        print(f\"Foreign keys in table {table_name}:\")\n",
    "        for key in foreign_keys:\n",
    "            print(key)\n",
    "    else:\n",
    "        print(f\"No foreign keys in table {table_name}.\")\n",
    "\n",
    "# Check foreign keys for the DataEntry table\n",
    "print_foreign_keys('DataEntry')\n",
    "\n",
    "# Close the connection\n",
    "conn.close()"
   ]
  }
 ],
 "metadata": {
  "kernelspec": {
   "display_name": "env",
   "language": "python",
   "name": "python3"
  },
  "language_info": {
   "codemirror_mode": {
    "name": "ipython",
    "version": 3
   },
   "file_extension": ".py",
   "mimetype": "text/x-python",
   "name": "python",
   "nbconvert_exporter": "python",
   "pygments_lexer": "ipython3",
   "version": "3.9.6"
  }
 },
 "nbformat": 4,
 "nbformat_minor": 2
}
